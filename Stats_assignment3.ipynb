{
 "cells": [
  {
   "cell_type": "code",
   "execution_count": 7,
   "metadata": {},
   "outputs": [],
   "source": [
    "import numpy as np\n",
    "import scipy.stats as st"
   ]
  },
  {
   "cell_type": "code",
   "execution_count": null,
   "metadata": {},
   "outputs": [],
   "source": []
  },
  {
   "cell_type": "code",
   "execution_count": 5,
   "metadata": {},
   "outputs": [],
   "source": [
    "def ztest(sam_mean,pop_mean,std_error):\n",
    "    return (sam_mean-pop_mean)/std_error\n",
    "def standard_error(stddev,n):\n",
    "    return stddev/np.sqrt(n)\n"
   ]
  },
  {
   "cell_type": "raw",
   "metadata": {},
   "source": [
    "Problem Statement 1:\n",
    "Blood glucose levels for obese patients have a mean of 100 with a standard deviation of 15. A researcher thinks that a diet high in raw cornstarch will have a positive effect on blood glucose levels. A sample of 36 patients who have tried the raw cornstarch diet have a mean glucose level of 108. Test the hypothesis that the raw cornstarch had an effect or not."
   ]
  },
  {
   "cell_type": "code",
   "execution_count": 9,
   "metadata": {},
   "outputs": [
    {
     "name": "stdout",
     "output_type": "stream",
     "text": [
      "Null hypothesis is rejected, The raw cornstrch had  effect\n"
     ]
    }
   ],
   "source": [
    "#H0: The raw cornstarch had no effect\n",
    "#H1: The raw carnstarch had effect\n",
    "# Two tailed test \n",
    "alpha=0.05\n",
    "z=ztest(108,100,standard_error(15,36))\n",
    "p_value=2*(1-st.norm.cdf(np.absolute(z)))\n",
    "\n",
    "if p_value<alpha:\n",
    "    print(\"Null hypothesis is rejected, The raw cornstrch had  effect\")\n",
    "else:print(\"Null hypotheis is accepted,The raw cornstarch had no effect\")"
   ]
  },
  {
   "cell_type": "markdown",
   "metadata": {},
   "source": [
    "In one state, 52% of the voters are Republicans, and 48% are Democrats. In a second state, 47% of the voters are Republicans, and 53% are Democrats. Suppose a simple random sample of 100 voters are surveyed from each state.\n",
    "What is the probability that the survey will show a greater percentage of Republican voters in the second state than in the first state?"
   ]
  },
  {
   "cell_type": "code",
   "execution_count": 15,
   "metadata": {},
   "outputs": [
    {
     "name": "stdout",
     "output_type": "stream",
     "text": [
      "Probability that the survey will show a greater percentage of Republican voters in the second state than the first state= 0.23946399182220035\n"
     ]
    }
   ],
   "source": [
    "#P1=probability of republican in state 1\n",
    "#p1=probability of democrats in state1\n",
    "#P2=prob of rep in state2\n",
    "#p2=prob of dem in state 2\n",
    "r1=0.52\n",
    "d1=0.48 #(1-r1)\n",
    "r2=0.47\n",
    "d2=0.53\n",
    "mean=0.52-0.47  #mean of difference in sample proportions\n",
    "\n",
    "def stddev(r1,n1,r2,n2):\n",
    "    ans=np.sqrt(((r1*(1-r1))/n1)+((r2*(1-r2))/n2))\n",
    "    return ans\n",
    "s=stddev(r1,100,r2,100)\n",
    "z=ztest(0,0.05,s)\n",
    "p=(1-st.norm.cdf(np.absolute(z)))\n",
    "print(\"Probability that the survey will show a greater percentage of Republican voters in the second state than the first state=\",p)\n",
    "\n"
   ]
  },
  {
   "cell_type": "markdown",
   "metadata": {},
   "source": [
    "Problem Statement 3:\n",
    "You take the SAT and score 1100. The mean score for the SAT is 1026 and the standard deviation is 209. How well did you score on the test compared to the average test taker?"
   ]
  },
  {
   "cell_type": "code",
   "execution_count": 19,
   "metadata": {},
   "outputs": [
    {
     "name": "stdout",
     "output_type": "stream",
     "text": [
      "I scored 63.835565843531896 % better than the average taker\n"
     ]
    }
   ],
   "source": [
    "my_score=1100\n",
    "mean_score=1026\n",
    "stdev=209\n",
    "z=ztest(my_score,mean_score,stdev)\n",
    "print(\"I scored\",(st.norm.cdf(np.absolute(z))*100),\"% better than the average taker\")"
   ]
  },
  {
   "cell_type": "code",
   "execution_count": null,
   "metadata": {},
   "outputs": [],
   "source": []
  }
 ],
 "metadata": {
  "kernelspec": {
   "display_name": "Python 3",
   "language": "python",
   "name": "python3"
  },
  "language_info": {
   "codemirror_mode": {
    "name": "ipython",
    "version": 3
   },
   "file_extension": ".py",
   "mimetype": "text/x-python",
   "name": "python",
   "nbconvert_exporter": "python",
   "pygments_lexer": "ipython3",
   "version": "3.7.1"
  }
 },
 "nbformat": 4,
 "nbformat_minor": 2
}
