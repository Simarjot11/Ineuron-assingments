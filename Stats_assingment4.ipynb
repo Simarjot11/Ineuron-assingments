{
 "cells": [
  {
   "cell_type": "code",
   "execution_count": 1,
   "metadata": {},
   "outputs": [],
   "source": [
    "import numpy as np\n",
    "import scipy.stats as st\n",
    "import pandas as pd"
   ]
  },
  {
   "cell_type": "markdown",
   "metadata": {},
   "source": [
    "Problem Statement 1: Is gender independent of education level? A random sample of 395 people were surveyed and each person was asked to report the highest education level they obtained. The data that resulted from the survey is summarized in the following table: High School Bachelors Masters Ph.d. Total Female 60 54 46 41 201 Male 40 44 53 57 194 Total 100 98 99 98 395 Question: Are gender and education level dependent at 5% level of significance? In other words, given the data collected above, is there a relationship between the gender of an individual and the level of education that they have obtained?Null Hypothesis H0 : Gender and education level are independent. Alternative Hypothesis H1 : Gender and education level are dependent."
   ]
  },
  {
   "cell_type": "code",
   "execution_count": 6,
   "metadata": {},
   "outputs": [
    {
     "name": "stdout",
     "output_type": "stream",
     "text": [
      "            HighSchool  Bachelors    Masters        Ph.d\n",
      "Female       60.000000  54.000000  46.000000  201.000000\n",
      "Exp_female   50.886076  49.868354  50.377215   49.868354\n",
      "Male         40.000000  44.000000  53.000000   57.000000\n",
      "Exp_male     49.113924  48.131646  48.622785   48.131646\n",
      "Null hypothesis is rejected , there is a relation between gender and education\n"
     ]
    }
   ],
   "source": [
    "#H0:There is no relation between gender and education\n",
    "#H1: there is a relation between gender and education\n",
    "\n",
    "alpha=0.05\n",
    "chi,p,dof,expected=st.chi2_contingency([[60,54,46,41],[40,44,53,57]])\n",
    "df=pd.DataFrame(np.array([[60,54,46,201],expected[0],[40,44,53,57],expected[1]]),columns=['HighSchool','Bachelors','Masters','Ph.d'],index=['Female','Exp_female','Male','Exp_male'])\n",
    "print(df)\n",
    "\n",
    "if p<alpha:\n",
    "    print(\"Null hypothesis is rejected , there is a relation between gender and education\")\n",
    "    \n",
    "else:\n",
    "    print(\"Null hypothesis is accpetd ,there is no relation between gender and education \")\n",
    "\n",
    "\n"
   ]
  },
  {
   "cell_type": "markdown",
   "metadata": {},
   "source": [
    "Problem Statement 2:\n",
    "Using the following data, perform a oneway analysis of variance using α=.05. Write up the results in APA format.\n",
    "[Group1: 51, 45, 33, 45, 67]\n",
    "[Group2: 23, 43, 23, 43, 45]\n",
    "[Group3: 56, 76, 74, 87, 56]"
   ]
  },
  {
   "cell_type": "code",
   "execution_count": 8,
   "metadata": {},
   "outputs": [
    {
     "name": "stdout",
     "output_type": "stream",
     "text": [
      "F value= 9.747205503009463\n",
      "P value= 0.0030597541434430556\n",
      "Null hypothesis is rejected ,i.e mean1 !=mean2!=mean3\n"
     ]
    }
   ],
   "source": [
    "#H0: mean1=mean2=mean3\n",
    "#H1: mean1 !=mean2!=mean3\n",
    "\n",
    "# performing ANOVA\n",
    "alpha=0.05\n",
    "group1=[51, 45, 33, 45, 67]\n",
    "group2=[23, 43, 23, 43, 45]\n",
    "group3=[56, 76, 74, 87, 56]\n",
    "\n",
    "f_value,p_value=st.f_oneway(group1,group2,group3)\n",
    "print(\"F value=\",f_value)\n",
    "print(\"P value=\",p_value)\n",
    "\n",
    "\n",
    "if p_value<alpha:\n",
    "    print(\"Null hypothesis is rejected ,i.e mean1 !=mean2!=mean3\")\n",
    "else:print(\"Null hypothesis is accepted,i.e mean1=mean2=mean3 \")\n",
    "    \n",
    "    \n",
    "    "
   ]
  },
  {
   "cell_type": "code",
   "execution_count": 11,
   "metadata": {},
   "outputs": [
    {
     "name": "stdout",
     "output_type": "stream",
     "text": [
      "F-value is : 9.747205503009457\n",
      "p-value is : 0.003059754143443061\n",
      "Null Hypothesis is rejected(mean1!=mean2!=mean3)\n"
     ]
    }
   ],
   "source": [
    "#Performing without predefined functions\n",
    "#ssw-- Sum of the squares within the samples\n",
    "#ssb-- Sum of the squares between the samples\n",
    "grand_mean=np.mean([np.mean(group1),np.mean(group2),np.mean(group3)])\n",
    "group1_dev=np.sum([(i-np.mean(group1))**2 for i in group1])\n",
    "group2_dev=np.sum([(i-np.mean(group2))**2 for i in group2])\n",
    "group3_dev=np.sum([(i-np.mean(group3))**2 for i in group3])\n",
    "ssw=np.sum([group1_dev,group2_dev,group3_dev])\n",
    "ssw_mean=ssw/12\n",
    "ssb=np.sum([(np.mean(group1)-grand_mean)**2,(np.mean(group2)-grand_mean)**2,(np.mean(group3)-grand_mean)**2])*5\n",
    "ssb_mean=ssb/2\n",
    "f_stat=ssb_mean/ssw_mean\n",
    "p=1-st.f.cdf(f_stat,dfn=2,dfd=12)\n",
    "print(\"F-value is :\",f_stat)\n",
    "print(\"p-value is :\",p)\n",
    "if p<alpha:\n",
    "    print(\"Null Hypothesis is rejected(mean1!=mean2!=mean3)\")\n",
    "else:\n",
    "    print(\"Null Hypothesis is accepted(mean1=mean2=mean3)\")"
   ]
  },
  {
   "cell_type": "markdown",
   "metadata": {},
   "source": [
    "Problem Statement 3: Calculate F Test for given 10, 20, 30, 40, 50 and 5,10,15, 20, 25."
   ]
  },
  {
   "cell_type": "code",
   "execution_count": 10,
   "metadata": {},
   "outputs": [
    {
     "name": "stdout",
     "output_type": "stream",
     "text": [
      "F-value= 3.6\n"
     ]
    }
   ],
   "source": [
    "s1=[10,20,30,40,50]\n",
    "s2=[5,10,15,20,25]\n",
    "f,p=st.f_oneway(s1,s2)\n",
    "print(\"F-value=\",f)"
   ]
  },
  {
   "cell_type": "code",
   "execution_count": null,
   "metadata": {},
   "outputs": [],
   "source": []
  }
 ],
 "metadata": {
  "kernelspec": {
   "display_name": "Python 3",
   "language": "python",
   "name": "python3"
  },
  "language_info": {
   "codemirror_mode": {
    "name": "ipython",
    "version": 3
   },
   "file_extension": ".py",
   "mimetype": "text/x-python",
   "name": "python",
   "nbconvert_exporter": "python",
   "pygments_lexer": "ipython3",
   "version": "3.7.1"
  }
 },
 "nbformat": 4,
 "nbformat_minor": 2
}
