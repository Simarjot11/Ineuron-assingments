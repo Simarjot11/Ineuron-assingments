{
 "cells": [
  {
   "cell_type": "code",
   "execution_count": 1,
   "metadata": {},
   "outputs": [],
   "source": [
    "import numpy as np"
   ]
  },
  {
   "cell_type": "markdown",
   "metadata": {},
   "source": [
    "Q1.Write a function so that the columns of the output matrix are powers of the input\n",
    "vector.\n",
    "The order of the powers is determined by the increasing boolean argument. Specifically, when\n",
    "increasing is False, the i-th output column is the input vector raised element-wise to the power\n",
    "of N - i - 1.\n",
    "\n",
    "HINT: Such a matrix with a geometric progression in each row is named for Alexandre-\n",
    "Theophile Vandermonde."
   ]
  },
  {
   "cell_type": "code",
   "execution_count": 2,
   "metadata": {},
   "outputs": [
    {
     "name": "stdout",
     "output_type": "stream",
     "text": [
      "Enter the number of rows3\n",
      "ENter the number of collumns3\n",
      "1 \n",
      "2\n",
      "3\n",
      "4\n",
      "5\n",
      "6\n",
      "7\n",
      "8\n",
      "9\n"
     ]
    },
    {
     "data": {
      "text/plain": [
       "matrix([[ 1,  2,  9],\n",
       "        [ 1,  5, 36],\n",
       "        [ 1,  8, 81]])"
      ]
     },
     "execution_count": 2,
     "metadata": {},
     "output_type": "execute_result"
    }
   ],
   "source": [
    "r=int(input(\"Enter the number of rows\"))\n",
    "c=int(input(\"ENter the number of collumns\"))\n",
    "matrix=[]\n",
    "for i in range(r):\n",
    "    a=[]\n",
    "    for j in range(c):\n",
    "        k=int(input())\n",
    "        s=pow(k,j)\n",
    "        a.append(s)\n",
    "    matrix.append(a)\n",
    "np.mat(matrix)\n",
    "        "
   ]
  },
  {
   "cell_type": "markdown",
   "metadata": {},
   "source": [
    "Q2.Write a function to find moving average in an array over a window:\n",
    "Test it over [3, 5, 7, 2, 8, 10, 11, 65, 72, 81, 99, 100, 150] and window of 3."
   ]
  },
  {
   "cell_type": "markdown",
   "metadata": {},
   "source": []
  },
  {
   "cell_type": "code",
   "execution_count": 8,
   "metadata": {},
   "outputs": [
    {
     "name": "stdout",
     "output_type": "stream",
     "text": [
      "3 5 7 2 8 10 11 65 72 81 99 100 150\n",
      "3\n",
      "[3, 3, 4, 5, 7, 21, 37, 54, 63, 70, 87]\n"
     ]
    }
   ],
   "source": [
    "l1=list(map(int,input().split()))\n",
    "ln=len(l1)\n",
    "k=int(input())\n",
    "l2=[]\n",
    "\n",
    "n=ln-k+1\n",
    "for i in range(n):\n",
    "    s=0\n",
    "    for j in range(i,i+k):\n",
    "        s+=l1[j]\n",
    "    \n",
    "    f=s//4\n",
    "    l2.append(f)\n",
    "print(l2)\n",
    "    "
   ]
  },
  {
   "cell_type": "code",
   "execution_count": null,
   "metadata": {},
   "outputs": [],
   "source": []
  }
 ],
 "metadata": {
  "kernelspec": {
   "display_name": "Python 3",
   "language": "python",
   "name": "python3"
  },
  "language_info": {
   "codemirror_mode": {
    "name": "ipython",
    "version": 3
   },
   "file_extension": ".py",
   "mimetype": "text/x-python",
   "name": "python",
   "nbconvert_exporter": "python",
   "pygments_lexer": "ipython3",
   "version": "3.7.1"
  }
 },
 "nbformat": 4,
 "nbformat_minor": 2
}
