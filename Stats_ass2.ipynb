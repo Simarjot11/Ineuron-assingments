{
 "cells": [
  {
   "cell_type": "markdown",
   "metadata": {},
   "source": [
    "Problem Statement 1:\n",
    "\n",
    "In each of the following situations, state whether it is a correctly stated hypothesis\n",
    "testing problem and why?\n",
    "1. H0: μ = 25, H1: μ ≠ 25 - Correct,because the format for null and alternate hypothesis is correctly used.\n",
    "2. H0: σ > 10, H1: σ = 10 - Not correct, because the altenate hypothesis would be greater than or equal to 10\n",
    "3. H0: x = 50, H1: x ≠ 50 - Correct,because the format for null and alternate hypothesis is correctly used.\n",
    "4. H0: p = 0.1, H1: p = 0.5-Not correct, because if null hypothesis is equal to 0.1 then altenate hypothesis would be not equal                             to 0.1\n",
    "5. H0: s = 30, H1: s > 30 - Not correct, because if null hypothesis is equal to 30 then the  altenate hypothesis would be not                               equal to 30 "
   ]
  },
  {
   "cell_type": "code",
   "execution_count": 23,
   "metadata": {},
   "outputs": [],
   "source": [
    "import pandas as pd\n",
    "import scipy\n",
    "import scipy.stats as st\n",
    "import math\n",
    "from statsmodels.stats import weightstats as stests\n",
    "import numpy as np"
   ]
  },
  {
   "cell_type": "code",
   "execution_count": 2,
   "metadata": {},
   "outputs": [],
   "source": [
    "def z_stat(samp_mean,pop_mean,se):\n",
    "    return (samp_mean-pop_mean)/se\n",
    "def t_stat(samp_mean,pop_mean,se):\n",
    "    return (samp_mean-pop_mean)/se\n",
    "def sample_error(std,n):\n",
    "    return std/(np.sqrt(n))"
   ]
  },
  {
   "cell_type": "markdown",
   "metadata": {},
   "source": [
    "Problem Statement 2:\n",
    "The college bookstore tells prospective students that the average cost of its textbooks is Rs. 52 with a standard deviation of Rs. 4.50. A group of smart statistics  students thinks that the average cost is higher. To test the bookstore’s claim against their alternative, the students will select a random sample of size 100. Assume that  the mean from their random sample is Rs. 52.80. Perform a hypothesis test at the 5% level of significance and state your decision."
   ]
  },
  {
   "cell_type": "code",
   "execution_count": 3,
   "metadata": {},
   "outputs": [
    {
     "name": "stdout",
     "output_type": "stream",
     "text": [
      "Accept null hypothesis\n"
     ]
    }
   ],
   "source": [
    "#H0: μ = 50, H1: μ ≠ 50 \n",
    "mu=52\n",
    "sd=4.50\n",
    "n=100\n",
    "x=52.8\n",
    "data=np.random.normal(loc=52.80,scale=4.50,size=100)\n",
    "testvalue,pvalue=stests.ztest(data,value=mu)\n",
    "#directly comparing the pvalue \n",
    "if pvalue<0.05:\n",
    "    print(\"Reject the null hypothesis\")\n",
    "else:print(\"Accept null hypothesis\")\n",
    "\n"
   ]
  },
  {
   "cell_type": "markdown",
   "metadata": {},
   "source": [
    "Problem Statement 3:\n",
    "A certain chemical pollutant in the Genesee River has been constant for several\n",
    "years with mean μ = 34 ppm (parts per million) and standard deviation σ = 8 ppm. A\n",
    "group of factory representatives whose companies discharge liquids into the river is\n",
    "now claiming that they have lowered the average with improved filtration devices. A\n",
    "group of environmentalists will test to see if this is true at the 1% level of\n",
    "significance. Assume  that their sample of size 50 gives a mean of 32.5 ppm.\n",
    "Perform a hypothesis test at the 1% level of significance and state your decision."
   ]
  },
  {
   "cell_type": "code",
   "execution_count": 4,
   "metadata": {},
   "outputs": [
    {
     "name": "stdout",
     "output_type": "stream",
     "text": [
      "Accept null hypothesis\n",
      "Hence they have loweredthe average discharge with improved filtration devices is true.\n"
     ]
    }
   ],
   "source": [
    "#H0:factory lowered the average (μ < 34 ) , H1:not able to lower the average(μ >=34)\n",
    "#As we know the size of sample>30 annd we know variance so we use z test\n",
    "mu=34\n",
    "sd=8\n",
    "n=50\n",
    "x=32.5\n",
    "data=np.random.normal(loc=32.5,scale=8,size=50)\n",
    "testvalue,pvalue=stests.ztest(data,value=mu)\n",
    "if pvalue<0.01:\n",
    "    print(\"Reject null hypothesis\")\n",
    "else:print(\"Accept null hypothesis\\nHence they have loweredthe average discharge with improved filtration devices is true.\")\n",
    "    \n",
    "    "
   ]
  },
  {
   "cell_type": "markdown",
   "metadata": {},
   "source": [
    "Problem Statement 4:\n",
    "Based on population figures and other general information on the U.S. population, suppose it has been estimated that, on average, a family of four in the U.S. spends about $1135 annually on dental expenditures. Suppose further that a regional dental association wants to test to determine if this figure is accurate for their area of country. To test this, 22 families of 4 are randomly selected from the population in that area of the country and a log is kept of the family’s dental expenditure for one year. The resulting data are given below. Assuming, that dental expenditure is normally distributed in the population, use the data and an alpha of 0.5 to test the dental association’s hypothesis.\n",
    "1008, 812, 1117, 1323, 1308, 1415, 831, 1021, 1287, 851, 930, 730, 699,\n",
    "872, 913, 944, 954, 987, 1695, 995, 1003, 994"
   ]
  },
  {
   "cell_type": "code",
   "execution_count": 5,
   "metadata": {},
   "outputs": [
    {
     "name": "stdout",
     "output_type": "stream",
     "text": [
      "Reject the null hypothesis\n",
      "Hence,the average dental expenses for te population is not accurate for their area.\n"
     ]
    }
   ],
   "source": [
    "#H0:the research was right(μ =$1135 ) , H1:research didn't match(μ !=$1135)\n",
    "data=np.array([1008, 812, 1117, 1323, 1308, 1415, 831, 1021, 1287, 851, 930, 730, 699,\n",
    "872, 913, 944, 954, 987, 1695, 995, 1003, 994])\n",
    "pmean=1135\n",
    "n=22\n",
    "sl=0.05\n",
    "smean=np.mean(data)\n",
    "stdev=np.std(data)\n",
    "testvalue,pvalue=stests.ztest(data,value=pmean)\n",
    "if pvalue<0.05:\n",
    "    print(\"Reject the null hypothesis\\nHence,the average dental expenses for te population is not accurate for their area.\")\n",
    "    \n",
    "else:print(\"Accept the null hypothesis\")"
   ]
  },
  {
   "cell_type": "markdown",
   "metadata": {},
   "source": [
    "Problem Statement 5:\n",
    "In a report prepared by the Economic Research Department of a major bank the\n",
    "Department manager maintains that the average annual family income on Metropolis is $48,432. What do you conclude about the validity of the report if a random sample of 400 families shows and average income of $48,574 with a standard deviation of 2000?"
   ]
  },
  {
   "cell_type": "code",
   "execution_count": 6,
   "metadata": {},
   "outputs": [
    {
     "name": "stdout",
     "output_type": "stream",
     "text": [
      "Accept the null hypothesis\n"
     ]
    }
   ],
   "source": [
    "#H0:Department Manager is right(μ =$48.432 ) , H1:Department manager was wrong(μ !=$48.432)\n",
    "n=400\n",
    "smean=48.574\n",
    "pmean=48.432\n",
    "stdev=2000\n",
    "data=np.random.normal(loc=48.574,scale=2000,size=400)\n",
    "testvalue,pvalue=stests.ztest(data,value=pmean)\n",
    "#default significance level=10% but two-tailed test at 5% level of significance.\n",
    "if pvalue<0.05:\n",
    "    print(\"Reject the null hypothesis\")\n",
    "else:print(\"Accept the null hypothesis\")    "
   ]
  },
  {
   "cell_type": "markdown",
   "metadata": {},
   "source": [
    "Problem Statement 6:\n",
    "Suppose that in past years the average price per square foot for warehouses in the United States has been $32.28. A national real estate investor wants to determine whether that figure has changed now. The investor hires a researcher who randomly samples 19 warehouses that are for sale across the United States and finds that the mean price per square foot is $31.67, with a standard deviation of $1.29. assume that the prices of warehouse footage are normally distributed in population. If the researcher uses a 5% level of significance, what statistical conclusion can be reached? What are the hypotheses?"
   ]
  },
  {
   "cell_type": "code",
   "execution_count": 7,
   "metadata": {},
   "outputs": [
    {
     "name": "stdout",
     "output_type": "stream",
     "text": [
      "Reject the null hyypothesis\n",
      "Hence the average price per square foor for warehousees has changed now.\n"
     ]
    }
   ],
   "source": [
    "#H0:u=$32.28, H1:u<$32.28 or u>32.28\n",
    "pmean=32.28\n",
    "n=19\n",
    "smean=31.67\n",
    "stdev=1.29\n",
    "slevel=0.05\n",
    "data=np.random.normal(loc=31.67,scale=1.29,size=19)\n",
    "testvalue,pvalue=stests.ztest(data,value=pmean)\n",
    "\n",
    "\n",
    "if pvalue<=0.05:\n",
    "    print(\"Reject the null hyypothesis\\nHence the average price per square foor for warehousees has changed now.\")\n",
    "    \n",
    "else:\n",
    "    print(\"Accept the null hypothesis\")"
   ]
  },
  {
   "cell_type": "markdown",
   "metadata": {},
   "source": [
    "Problem Statement 7:\n",
    "Fill in the blank spaces in the table and draw your conclusions from it."
   ]
  },
  {
   "cell_type": "markdown",
   "metadata": {},
   "source": [
    "in the question values of alpha nd standard deviation are not given, so it is not possible to find te vallue of beta."
   ]
  },
  {
   "cell_type": "markdown",
   "metadata": {},
   "source": [
    "Problem Statement 8:\n",
    "Find the t-score for a sample size of 16 taken from a population with mean 10 when the sample mean is 12 and the sample standard deviation is 1.5."
   ]
  },
  {
   "cell_type": "code",
   "execution_count": 8,
   "metadata": {},
   "outputs": [
    {
     "name": "stdout",
     "output_type": "stream",
     "text": [
      "t-score is: 5.333333333333333\n"
     ]
    }
   ],
   "source": [
    "print(\"t-score is:\",t_stat(pop_mean=10,samp_mean=12,se=sample_error(std=1.5,n=16)))"
   ]
  },
  {
   "cell_type": "markdown",
   "metadata": {},
   "source": [
    "Problem Statement 9: Find the t-score below which we can expect 99% of sample means will fall if samples of size 16 are taken from a normally distributed population."
   ]
  },
  {
   "cell_type": "code",
   "execution_count": 9,
   "metadata": {},
   "outputs": [
    {
     "name": "stdout",
     "output_type": "stream",
     "text": [
      "t score below which we can expect to find the middle 95% of all sample means is: 2.602480294995493\n"
     ]
    }
   ],
   "source": [
    "print(\"t score below which we can expect to find the middle 95% of all sample means is:\",st.t.ppf(q=0.99,df=15))"
   ]
  },
  {
   "cell_type": "markdown",
   "metadata": {},
   "source": [
    "Problem Statement 10:\n",
    "If a random sample of size 25 drawn from a normal population gives a mean of 60 and a standard deviation of 4, find the range of t-scores where we can expect to find the middle 95% of all sample means. Compute the probability that (−t0.05 <t<t0.10)."
   ]
  },
  {
   "cell_type": "code",
   "execution_count": 10,
   "metadata": {},
   "outputs": [
    {
     "name": "stdout",
     "output_type": "stream",
     "text": [
      "The tscore where we can expect to find the middle 95% of all sample means:  1.7108820799094275\n",
      "P(−t0.05 <t<t0.10) 0.85\n"
     ]
    }
   ],
   "source": [
    "print(\"The tscore where we can expect to find the middle 95% of all sample means: \",st.t.ppf(q=0.95,df=24))\n",
    "print(\"P(−t0.05 <t<t0.10)\",1-0.05-0.1)"
   ]
  },
  {
   "cell_type": "markdown",
   "metadata": {},
   "source": [
    "Problem Statement 11:\n",
    "Two-tailed test for difference between two population means\n",
    "Is there evidence to conclude that the number of people travelling from Bangalore to Chennai is different from the number of people travelling from Bangalore to Hosur in a week, given the following:\n",
    "Population 1: Bangalore to Chennai n1 = 1200\n",
    "x1 = 452\n",
    "s1 = 212\n",
    "Population 2: Bangalore to Hosur n2 = 800\n",
    "x2 = 523\n",
    "s2 = 185"
   ]
  },
  {
   "cell_type": "code",
   "execution_count": 11,
   "metadata": {},
   "outputs": [
    {
     "name": "stdout",
     "output_type": "stream",
     "text": [
      "NULL hypothesis is rejected\n"
     ]
    }
   ],
   "source": [
    "# H0: number of people travelling from Bangalore to Chennai is same as from the number of people travelling from Bangalore to Hosur in a week(𝜇1=𝜇2) \n",
    "# H1:number of people travelling from Bangalore to Chennai is different from the number of people travelling from Bangalore to Hosur in a week(𝜇1!=𝜇2)\n",
    "\n",
    "def z_stats_twomean(x1,x2,se):\n",
    "    return (x1-x2)/se\n",
    "\n",
    "def sample_error_twomeans(s1,n1,s2,n2):\n",
    "    return (np.sqrt((s1**2/n1)+(s2**2/n2)))\n",
    "alpha=0.05\n",
    "z=z_stats_twomean(452,523,sample_error_twomeans(212,1200,185,800))\n",
    "p=2*(1-st.norm.cdf(x=np.absolute(z)))\n",
    "\n",
    "if p<alpha:\n",
    "    print(\"NULL hypothesis is rejected\")\n",
    "else:\n",
    "    print(\"Null hypothesis is accepted\")\n",
    "\n",
    "\n",
    "\n",
    "\n",
    "\n"
   ]
  },
  {
   "cell_type": "markdown",
   "metadata": {},
   "source": [
    "Problem Statement 12:\n",
    "Is there evidence to conclude that the number of people preferring Duracell battery is different from the number of people preferring Energizer battery, given the following:\n",
    "Population 1: Duracell\n",
    "n1 = 100\n",
    "x1 = 308\n",
    "s1 = 84\n",
    "Population 2: Energizer\n",
    "n2 = 100\n",
    "x2 = 254\n",
    "s2 = 67"
   ]
  },
  {
   "cell_type": "code",
   "execution_count": 13,
   "metadata": {},
   "outputs": [
    {
     "name": "stdout",
     "output_type": "stream",
     "text": [
      "NULL hypothesis is rejected\n"
     ]
    }
   ],
   "source": [
    "#H0: u1=u2 \n",
    "# H1: u1!=u2\n",
    "\n",
    "def z_stats_twomean(x1,x2,se):\n",
    "    return (x1-x2)/se\n",
    "def sample_error_twomeans(s1,n1,s2,n2):\n",
    "    return (np.sqrt((s1**2/n1)+(s2**2/n2)))\n",
    "\n",
    "alpha=0.05\n",
    "z=z_stats_twomean(308,254,sample_error_twomeans(84,100,67,100))\n",
    "p_value=2*(1-st.norm.cdf(x=np.absolute(z)))\n",
    "\n",
    "if p_value<alpha:\n",
    "    print(\"NULL hypothesis is rejected\")\n",
    "else:\n",
    "    print(\"Null hypothesis is accepted\")"
   ]
  },
  {
   "cell_type": "markdown",
   "metadata": {},
   "source": [
    "Problem Statement 13:\n",
    "Pooled estimate of the population variance\n",
    "Does the data provide sufficient evidence to conclude that average percentage\n",
    "increase in the price of sugar differs when it is sold at two different prices?\n",
    "Population 1: Price of sugar = Rs. 27.50 n1 = 14\n",
    "x1 = 0.317%\n",
    "s1 = 0.12%\n",
    "Population 2: Price of sugar = Rs. 20.00 n2 = 9\n",
    "x2 = 0.21%\n",
    "s2 = 0.11%"
   ]
  },
  {
   "cell_type": "code",
   "execution_count": 17,
   "metadata": {},
   "outputs": [
    {
     "name": "stdout",
     "output_type": "stream",
     "text": [
      "Null hypothesis is accepted\n"
     ]
    }
   ],
   "source": [
    "#H0:Average percentage increase in the price of sugar is ame when it is sold at two different prices\n",
    "#H1:Average percentage increase differs when sold in two different prices\n",
    "# as n<30 so t test moreover population variance is unknown\n",
    "def est_std_dev(s1,n1,s2,n2):\n",
    "    return np.sqrt(((n1*s1**2)+(n1*s2**2))/(n1+n2-2))\n",
    "def z_stats_twomean(x1,x2,se):\n",
    "    return (x1-x2)/se\n",
    "def sample_error_twomeans(s1,n1,s2,n2):\n",
    "    return (np.sqrt((s1**2/n1)+(s2**2/n2)))\n",
    "alpha=0.05\n",
    "est_standarddeviation=est_std_dev(n1=14,s1=0.12,n2=9,s2=0.11)\n",
    "t=z_stats_twomean(x1=0.317,x2=0.21,se=sample_error_twomeans(s1=est_standarddeviation,s2=est_standarddeviation,n1=14,n2=9))\n",
    "p=2*(1-st.t.cdf(x=np.absolute(t),df=14+9-2))\n",
    "\n",
    "if p<alpha:\n",
    "    print(\"Null hypothesis is rejected\")\n",
    "else:print(\"Null hypothesis is accepted\")"
   ]
  },
  {
   "cell_type": "markdown",
   "metadata": {},
   "source": [
    "Problem Statement 14: The manufacturers of compact disk players want to test whether a small price reduction is enough to increase sales of their product. Is there evidence that the small price reduction is enough to increase sales of compact disk players? Population 1: Before reduction n1 = 15 x1 = Rs. 6598 s1 = Rs. 844 Population 2: After reduction n2 = 12 x2 = RS. 6870 s2 = Rs. 669Null Hypothesis H0 : 𝜇2-𝜇1<=0(Average Sales before and after reduction is same or less) Alternative Hypothesis H1 : 𝜇2>𝜇1(Average Sales after reduction increased)(One Tailed Test)"
   ]
  },
  {
   "cell_type": "code",
   "execution_count": 16,
   "metadata": {},
   "outputs": [
    {
     "name": "stdout",
     "output_type": "stream",
     "text": [
      "Null hypothesis is accepted\n"
     ]
    }
   ],
   "source": [
    "#H0: u1<u2\n",
    "#H1: u1>=u2\n",
    "# as n<30 so t test moreover population variance is unknown\n",
    "def est_std_dev(s1,n1,s2,n2):\n",
    "    return np.sqrt(((n1*s1**2)+(n1*s2**2))/(n1+n2-2))\n",
    "def z_stats_twomean(x1,x2,se):\n",
    "    return (x1-x2)/se\n",
    "def sample_error_twomeans(s1,n1,s2,n2):\n",
    "    return (np.sqrt((s1**2/n1)+(s2**2/n2)))\n",
    "\n",
    "est_standarddeviation=est_std_dev(n1=15,s1=844,n2=12,s2=669)\n",
    "t=z_stats_twomean(x1=0.317,x2=0.21,se=sample_error_twomeans(s1=est_standarddeviation,s2=est_standarddeviation,n1=15,n2=12))\n",
    "p=2*(1-st.t.cdf(x=np.absolute(t),df=15+12-1))#one tailed test\n",
    "alpha=0.05\n",
    "if p<alpha:\n",
    "    print(\"Null hypothesis is rejected\")\n",
    "else:print(\"Null hypothesis is accepted\")\n"
   ]
  },
  {
   "cell_type": "markdown",
   "metadata": {},
   "source": [
    "Problem Statement 15:\n",
    "Comparisons of two population proportions when the hypothesized difference is zero Carry out a two-tailed test of the equality of banks’ share of the car loan market in 1980 and 1995.\n",
    "Population 1: 1980\n",
    "n1 = 1000\n",
    "x1 = 53\n",
    "p 1 = 0.53\n",
    "Population 2: 1985\n",
    "n2 = 100\n",
    "x2 = 43\n",
    "p 2= 0.53"
   ]
  },
  {
   "cell_type": "code",
   "execution_count": 19,
   "metadata": {},
   "outputs": [
    {
     "name": "stdout",
     "output_type": "stream",
     "text": [
      "Null Hypothesis is rejected(Banks share of the car loan market in 1980 and 1995 is not equal(P1!=P2))\n"
     ]
    }
   ],
   "source": [
    "def z_test_population(p1,p2,se):\n",
    "    return (p1-p2)/se\n",
    "def sample_error_population(p1,p2,n2,n1):\n",
    "    return np.sqrt((p1*(1-p1)/n1)+(p2*(1-p2)/n2))\n",
    "alpha=0.05\n",
    "p1=53/1000\n",
    "p2=43/100\n",
    "z=z_test_population(p1,p2,sample_error_population(p1,p2,n1=1000,n2=100))\n",
    "p=2*(1-st.norm.cdf(x=np.absolute(z)))\n",
    "\n",
    "if p<alpha:\n",
    "    print(\"Null Hypothesis is rejected(Banks share of the car loan market in 1980 and 1995 is not equal(P1!=P2))\")\n",
    "else:print(\"Null hypothesis is accepted(Banks share of the car loan market in 1980 and 1995 is equal(P1=P2))\")\n",
    "\n",
    "\n",
    "\n"
   ]
  },
  {
   "cell_type": "markdown",
   "metadata": {},
   "source": [
    "Carry out a one-tailed test to determine whether the population proportion of traveler’s check buyers who buy at least $2500 in checks when sweepstakes prizes are offered as at least 10% higher than the proportion of such buyers when no sweepstakes are on.\n",
    "Population 1: With sweepstakes\n",
    "n1 = 300\n",
    "x1 = 120\n",
    "p = 0.40\n",
    "Population 2: No sweepstakes n2 = 700\n",
    "x2 = 140\n",
    "p 2= 0.20"
   ]
  },
  {
   "cell_type": "code",
   "execution_count": 20,
   "metadata": {},
   "outputs": [
    {
     "name": "stdout",
     "output_type": "stream",
     "text": [
      "Hypothesis is accepted\n"
     ]
    }
   ],
   "source": [
    "#H0:(P1-P2>=0.1)The checks when sweepstakes are offered are more as compared to when sweepstakes are off\n",
    "#H1:P1-P2<0.1\n",
    "def z_test_population(p1,p2,se):\n",
    "    return (p1-p2)/se\n",
    "def sample_error_population(p1,p2,n2,n1):\n",
    "    return np.sqrt((p1*(1-p1)/n1)+(p2*(1-p2)/n2))\n",
    "alpha=0.05\n",
    "se=sample_error_population(0.4,0.2,700,300)\n",
    "z=((0.4-0.2-0.1)/se)\n",
    "p=st.norm.cdf(z)\n",
    "\n",
    "if p<alpha:\n",
    "    print(\"Null hypothesis is rejected\")\n",
    "else:print(\"Hypothesis is accepted\")"
   ]
  },
  {
   "cell_type": "markdown",
   "metadata": {},
   "source": [
    "A die is thrown 132 times with the following results: Number turned up: 1, 2, 3, 4, 5, 6\n",
    "Frequency: 16, 20, 25, 14, 29, 28\n",
    "Is the die unbiased? Consider the degrees of freedom as p − 1."
   ]
  },
  {
   "cell_type": "code",
   "execution_count": 22,
   "metadata": {},
   "outputs": [
    {
     "name": "stdout",
     "output_type": "stream",
     "text": [
      "Null hypothesis is accepted (Dice is unbiased)\n"
     ]
    }
   ],
   "source": [
    "#H0:the dice is unbiased\n",
    "#H1=the dice is biased\n",
    "#now in an unbiased dice prob of each digit is 1/6 for 132 trails the prob would be 22 for each\n",
    "\n",
    "observed=np.array([16,20,25,14,29,28])\n",
    "expected=np.array([22,22,22,22,22,22])\n",
    "\n",
    "chi,p=st.chisquare(f_obs=observed,f_exp=expected)\n",
    "if p<0.05:\n",
    "    print(\"Null Hypothesis is rejected(Dice is biased)\")\n",
    "else:print(\"Null hypothesis is accepted (Dice is unbiased)\")"
   ]
  },
  {
   "cell_type": "markdown",
   "metadata": {},
   "source": [
    "Problem Statement 18:\n",
    "In a certain town, there are about one million eligible voters. A simple random sample of 10,000 eligible voters was chosen to study the relationship between gender and participation in the last election. The results are summarized in the following 2X2 (read two by two) contingency table:\n",
    "We would want to check whether being a man or a woman (columns) is independent ofhaving voted in the last election (rows). In other words, is “gender and voting independent”?"
   ]
  },
  {
   "cell_type": "code",
   "execution_count": 29,
   "metadata": {},
   "outputs": [
    {
     "name": "stdout",
     "output_type": "stream",
     "text": [
      "The expected values are : [[2730.6474 3652.3526]\n",
      " [1547.3526 2069.6474]]\n",
      "Null hypothesis is rejected\n"
     ]
    }
   ],
   "source": [
    "#H0:gender and voting is independent\n",
    "#H1: gender and voting is dependent\n",
    "#We use a chi-square test with the help of the above contingency table and calculate the chi-square variate \n",
    "alpha=0.05\n",
    "array=np.array([[2792,3591],[1486,2131]])\n",
    "chi,p,dof,expected=st.chi2_contingency(array)\n",
    "print(\"The expected values are :\",expected)\n",
    "if p<alpha:\n",
    "    print(\"Null hypothesis is rejected\")\n",
    "else:print(\"Null hypothesis is accepted\")"
   ]
  },
  {
   "cell_type": "markdown",
   "metadata": {},
   "source": [
    "Problem Statement 19:\n",
    "A sample of 100 voters are asked which of four candidates they would vote for in an\n",
    "election. The number supporting each candidate is given below:\n",
    "Do the data suggest that all candidates are equally popular? [Chi-Square = 14.96, with 3 df, p 0.05 ."
   ]
  },
  {
   "cell_type": "code",
   "execution_count": 33,
   "metadata": {},
   "outputs": [
    {
     "name": "stdout",
     "output_type": "stream",
     "text": [
      "Chisquare= 14.959999999999999\n",
      "Null hypothesis is rejected\n"
     ]
    }
   ],
   "source": [
    "#H0:candidates are equally popular\n",
    "#H1:candidates are not equally popular\n",
    "##THIS METHOD WHEN YOU ARE ABLE TO GET EXPECTED LIST\n",
    "observed=[41,19,24,16]\n",
    "expected=[25,25,25,25]\n",
    "chi,p=st.chisquare(f_obs=observed,f_exp=expected)\n",
    "print(\"Chisquare=\",chi)\n",
    "if p<alpha:\n",
    "    print(\"Null hypothesis is rejected\")\n",
    "else:print(\"Null hypothesis is accepted\")\n"
   ]
  },
  {
   "cell_type": "markdown",
   "metadata": {},
   "source": [
    "Problem Statement 20:\n",
    "Children of three ages are asked to indicate their preference for three photographs of\n",
    "adults. Do the data suggest that there is a significant relationship between age and\n",
    "photograph preference? What is wrong with this study? [Chi-Square = 29.6, with 4 df: p < 0.05]."
   ]
  },
  {
   "cell_type": "code",
   "execution_count": 34,
   "metadata": {},
   "outputs": [
    {
     "name": "stdout",
     "output_type": "stream",
     "text": [
      "NULL hypothesis is rejected\n"
     ]
    }
   ],
   "source": [
    "#H0:no significant relationship with age and selection of photograph\n",
    "#H1: significant reltionship with age and selection of photograph\n",
    "##THIS METHOD WHEN YOU ARE NOT ABLE TO FETCH EXPECTED LIST\n",
    "\n",
    "alpha=0.05\n",
    "array=np.array([[18,22,20],[2,28,40],[20,10,40]])\n",
    "chi2,p,dof,expected=st.chi2_contingency(array)\n",
    "if p<alpha:\n",
    "    print(\"NULL hypothesis is rejected\")\n",
    "else:print(\"Null hypothesis is acceptted\")\n"
   ]
  },
  {
   "cell_type": "markdown",
   "metadata": {},
   "source": [
    "Problem Statement 21:\n",
    "\n",
    "A study of conformity using the Asch paradigm involved two conditions: one where one confederate supported the true judgement and another where no confederate gave the correct response.\n",
    "Is there a significant difference between the \"support\" and \"no support\" conditions in the frequency with which individuals are likely to conform? [Chi-Square = 19.87, with 1 df:p < 0.05]."
   ]
  },
  {
   "cell_type": "code",
   "execution_count": 36,
   "metadata": {},
   "outputs": [
    {
     "name": "stdout",
     "output_type": "stream",
     "text": [
      "Null hypothesis is rejected\n"
     ]
    }
   ],
   "source": [
    "#H0:There is no difference  between support and no support\n",
    "#H1:there is difference between support and no support\n",
    "alpha=0.05\n",
    "array=np.array([[18,40],[32,10]])\n",
    "chi,p,dof,expected=st.chi2_contingency(array)\n",
    "if p<alpha:\n",
    "    print(\"Null hypothesis is rejected\")\n",
    "else:print(\"Null hypothesis is accepted\")"
   ]
  },
  {
   "cell_type": "markdown",
   "metadata": {},
   "source": [
    "Problem Statement 22:\n",
    "We want to test whether short people differ with respect to their leadership qualities (Genghis Khan, Adolf Hitler and Napoleon were all stature-deprived, and how many midget MP's are there?) The following table shows the frequencies with which 43 short people and 52 tall people were categorized as \"leaders\", \"followers\" or as \"unclassifiable\". Is there a relationship between height and leadership qualities?\n",
    "[Chi-Square = 10.71, with 2 df: p < 0.01].\n"
   ]
  },
  {
   "cell_type": "code",
   "execution_count": 39,
   "metadata": {},
   "outputs": [
    {
     "name": "stdout",
     "output_type": "stream",
     "text": [
      "                Short  Tall\n",
      "Leader             12    32\n",
      "Folower            22    14\n",
      "Unclassifiable      9     6\n",
      "Null hypothesis is rejected\n"
     ]
    }
   ],
   "source": [
    "#H0: There is no significant relationship between height and leadership qualities\n",
    "#H1: There is a relationship between height and leadership\n",
    "\n",
    "df=pd.DataFrame([[12,32],[22,14],[9,6]],columns=['Short','Tall'],index=['Leader','Folower','Unclassifiable'])\n",
    "print(df)\n",
    "\n",
    "alpha=0.01\n",
    "array=np.array([[12,32],[22,14],[9,6]])\n",
    "chi,p,dof,expected=st.chi2_contingency(array)\n",
    "if p<alpha:\n",
    "    print(\"Null hypothesis is rejected\")\n",
    "else:\n",
    "    print(\"Null hypothesis is accepted\")"
   ]
  },
  {
   "cell_type": "markdown",
   "metadata": {},
   "source": [
    "Problem Statement 23: Each respondent in the Current Population Survey of March 1993 was classified as employed, unemployed, or outside the labor force. The results for men in California age 35- 44 can be cross-tabulated by marital status, as follows: Men of different marital status seem to have different distributions of labor force status. Or is this just chance variation? (you may assume the table results from a simple random sample.)"
   ]
  },
  {
   "cell_type": "code",
   "execution_count": 41,
   "metadata": {},
   "outputs": [
    {
     "name": "stdout",
     "output_type": "stream",
     "text": [
      "                    Married  Widowed,Divorced or Seperated  Never Married\n",
      "Employed                679                            103            114\n",
      "Unemployed               63                             10             20\n",
      "Not in labor force       42                             18             25\n",
      "Null Hypothesis is rejected\n"
     ]
    }
   ],
   "source": [
    "df=pd.DataFrame([[679,103,114],[63,10,20],[42,18,25]],columns=['Married','Widowed,Divorced or Seperated','Never Married'],index=['Employed','Unemployed','Not in labor force'])\n",
    "print(df)\n",
    "\n",
    "#H0:Marital and employement status are independent\n",
    "#H1: Morital and employment status are dependent\n",
    "\n",
    "alpha=0.05\n",
    "array=np.array([[679,103,114],[63,10,20],[42,18,25]])\n",
    "chi,p,dof,expected=st.chi2_contingency(array)\n",
    "if p<alpha:\n",
    "    print(\"Null Hypothesis is rejected\")\n",
    "else:print(\"null hypothesis is accepted\")"
   ]
  },
  {
   "cell_type": "code",
   "execution_count": null,
   "metadata": {},
   "outputs": [],
   "source": []
  },
  {
   "cell_type": "code",
   "execution_count": null,
   "metadata": {},
   "outputs": [],
   "source": []
  }
 ],
 "metadata": {
  "kernelspec": {
   "display_name": "Python 3",
   "language": "python",
   "name": "python3"
  },
  "language_info": {
   "codemirror_mode": {
    "name": "ipython",
    "version": 3
   },
   "file_extension": ".py",
   "mimetype": "text/x-python",
   "name": "python",
   "nbconvert_exporter": "python",
   "pygments_lexer": "ipython3",
   "version": "3.7.1"
  }
 },
 "nbformat": 4,
 "nbformat_minor": 2
}
